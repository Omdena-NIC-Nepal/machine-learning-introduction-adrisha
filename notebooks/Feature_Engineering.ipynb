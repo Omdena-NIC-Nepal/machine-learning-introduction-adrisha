{
 "cells": [
  {
   "cell_type": "code",
   "execution_count": 7,
   "metadata": {},
   "outputs": [],
   "source": [
    "import pandas as pd\n",
    "import numpy as np\n",
    "from sklearn.model_selection import train_test_split\n",
    "from sklearn.linear_model import LinearRegression\n",
    "from sklearn.metrics import mean_squared_error, r2_score\n",
    "from sklearn.model_selection import train_test_split\n",
    "from sklearn.linear_model import LinearRegression\n",
    "from sklearn.metrics import r2_score, mean_squared_error"
   ]
  },
  {
   "cell_type": "markdown",
   "metadata": {},
   "source": [
    "### Feature Engineering for Boston Housing Dataset: Interaction, Polynomial, and Domain-Specific Enhancements"
   ]
  },
  {
   "cell_type": "code",
   "execution_count": 5,
   "metadata": {},
   "outputs": [
    {
     "name": "stdout",
     "output_type": "stream",
     "text": [
      "      crim    zn  indus  chas    nox     rm   age     dis  rad  tax  ...  \\\n",
      "0  0.00632  18.0   2.31     0  0.538  6.575  65.2  4.0900    1  296  ...   \n",
      "1  0.02731   0.0   7.07     0  0.469  6.421  78.9  4.9671    2  242  ...   \n",
      "2  0.02729   0.0   7.07     0  0.469  7.185  61.1  4.9671    2  242  ...   \n",
      "3  0.03237   0.0   2.18     0  0.458  6.998  45.8  6.0622    3  222  ...   \n",
      "4  0.06905   0.0   2.18     0  0.458  7.147  54.2  6.0622    3  222  ...   \n",
      "\n",
      "        b  lstat  medv  interaction_rm_age  interaction_tax_ptratio  \\\n",
      "0  396.90   4.98  24.0            428.6900                   4528.8   \n",
      "1  396.90   9.14  21.6            506.6169                   4307.6   \n",
      "2  392.83   4.03  34.7            439.0035                   4307.6   \n",
      "3  394.63   2.94  33.4            320.5084                   4151.4   \n",
      "4  396.90   5.33  36.2            387.3674                   4151.4   \n",
      "\n",
      "   polynomial_rm_squared  polynomial_age_squared  estimated_house_built_year  \\\n",
      "0              43.230625                 4251.04                      1957.8   \n",
      "1              41.229241                 6225.21                      1944.1   \n",
      "2              51.624225                 3733.21                      1961.9   \n",
      "3              48.972004                 2097.64                      1977.2   \n",
      "4              51.079609                 2937.64                      1968.8   \n",
      "\n",
      "   aggregated_total_rooms  binned_age_category  \n",
      "0                100.5975            4 (61-80)  \n",
      "1                114.2938            4 (61-80)  \n",
      "2                127.8930            4 (61-80)  \n",
      "3                130.8626            3 (41-60)  \n",
      "4                133.6489            3 (41-60)  \n",
      "\n",
      "[5 rows x 21 columns]\n"
     ]
    }
   ],
   "source": [
    "# Load the dataset\n",
    "data = pd.read_csv('../data/bostonhousing.csv') \n",
    "\n",
    "# Define numerical features and the target variable\n",
    "numerical_features = [\n",
    "    'crim', 'zn', 'indus', 'nox', 'rm',\n",
    "    'age', 'dis', 'rad', 'tax', 'ptratio', 'b', 'lstat'\n",
    "]\n",
    "target_variable = 'medv'\n",
    "\n",
    "# Generate interaction features (combined effect of two variables)\n",
    "data['interaction_rm_age'] = data['rm'] * data['age']               # Rooms × Age\n",
    "data['interaction_tax_ptratio'] = data['tax'] * data['ptratio']     # Tax × Pupil-Teacher Ratio\n",
    "\n",
    "# Create polynomial features (non-linear effects)\n",
    "data['polynomial_rm_squared'] = data['rm'] ** 2\n",
    "data['polynomial_age_squared'] = data['age'] ** 2\n",
    "\n",
    "# Create a domain-specific feature (approximate house age based on 2023)\n",
    "data['estimated_house_built_year'] = 2023 - data['age']\n",
    "\n",
    "# Create an aggregated feature (e.g., estimated total rooms based on average rooms and school ratio)\n",
    "data['aggregated_total_rooms'] = data['rm'] * data['ptratio']\n",
    "\n",
    "# Categorize houses into age bins (for segmented analysis)\n",
    "data['binned_age_category'] = pd.cut(\n",
    "    data['age'],\n",
    "    bins=[0, 20, 40, 60, 80, 100],\n",
    "    labels=['1 (0-20)', '2 (21-40)', '3 (41-60)', '4 (61-80)', '5 (81-100)']\n",
    ")\n",
    "\n",
    "# Preview the first 5 rows of the enhanced dataset\n",
    "print(data.head())"
   ]
  },
  {
   "cell_type": "markdown",
   "metadata": {},
   "source": [
    "### Testing Feature Combinations for Predicting Boston Housing Prices"
   ]
  },
  {
   "cell_type": "code",
   "execution_count": 8,
   "metadata": {},
   "outputs": [
    {
     "name": "stdout",
     "output_type": "stream",
     "text": [
      "Feature Set Performance Comparison:\n",
      "Original → R² Score: 0.664, RMSE: 4.963\n",
      "Original + Interaction → R² Score: 0.715, RMSE: 4.570\n",
      "Original + Polynomial → R² Score: 0.783, RMSE: 3.991\n",
      "All Features → R² Score: 0.802, RMSE: 3.811\n"
     ]
    }
   ],
   "source": [
    "# Recreate features (as done before)\n",
    "data['interaction_rm_age'] = data['rm'] * data['age']\n",
    "data['interaction_tax_ptratio'] = data['tax'] * data['ptratio']\n",
    "data['polynomial_rm_squared'] = data['rm'] ** 2\n",
    "data['polynomial_age_squared'] = data['age'] ** 2\n",
    "data['estimated_house_built_year'] = 2023 - data['age']\n",
    "data['aggregated_total_rooms'] = data['rm'] * data['ptratio']\n",
    "data['binned_age_category'] = pd.cut(\n",
    "    data['age'],\n",
    "    bins=[0, 20, 40, 60, 80, 100],\n",
    "    labels=[1, 2, 3, 4, 5]\n",
    ")\n",
    "data['binned_age_category'] = data['binned_age_category'].astype(float)\n",
    "\n",
    "# Define the target variable\n",
    "y = data['medv']\n",
    "\n",
    "# Define various feature sets\n",
    "feature_sets = {\n",
    "    'Original': ['crim', 'zn', 'indus', 'nox', 'rm', 'age', 'dis', 'rad', 'tax', 'ptratio', 'b', 'lstat'],\n",
    "    'Original + Interaction': ['crim', 'zn', 'indus', 'nox', 'rm', 'age', 'dis', 'rad', 'tax', 'ptratio', 'b', 'lstat',\n",
    "                               'interaction_rm_age', 'interaction_tax_ptratio'],\n",
    "    'Original + Polynomial': ['crim', 'zn', 'indus', 'nox', 'rm', 'age', 'dis', 'rad', 'tax', 'ptratio', 'b', 'lstat',\n",
    "                              'polynomial_rm_squared', 'polynomial_age_squared'],\n",
    "    'All Features': ['crim', 'zn', 'indus', 'nox', 'rm', 'age', 'dis', 'rad', 'tax', 'ptratio', 'b', 'lstat',\n",
    "                     'interaction_rm_age', 'interaction_tax_ptratio',\n",
    "                     'polynomial_rm_squared', 'polynomial_age_squared',\n",
    "                     'estimated_house_built_year', 'aggregated_total_rooms',\n",
    "                     'binned_age_category']\n",
    "}\n",
    "\n",
    "# Function to train and evaluate models\n",
    "def evaluate_model(features):\n",
    "    X = data[features]\n",
    "    X_train, X_test, y_train, y_test = train_test_split(X, y, test_size=0.2, random_state=42)\n",
    "    \n",
    "    model = LinearRegression()\n",
    "    model.fit(X_train, y_train)\n",
    "    y_pred = model.predict(X_test)\n",
    "    \n",
    "    r2 = r2_score(y_test, y_pred)\n",
    "    rmse = np.sqrt(mean_squared_error(y_test, y_pred))\n",
    "    \n",
    "    return r2, rmse\n",
    "\n",
    "# Run evaluation for each feature set\n",
    "print(\"Feature Set Performance Comparison:\")\n",
    "for name, features in feature_sets.items():\n",
    "    r2, rmse = evaluate_model(features)\n",
    "    print(f\"{name} → R² Score: {r2:.3f}, RMSE: {rmse:.3f}\")\n",
    "\n",
    "    "
   ]
  },
  {
   "cell_type": "markdown",
   "metadata": {},
   "source": [
    "### Evaluating the Impact of Feature Engineering on Housing Price Prediction using the Boston Dataset"
   ]
  },
  {
   "cell_type": "code",
   "execution_count": 10,
   "metadata": {},
   "outputs": [
    {
     "name": "stdout",
     "output_type": "stream",
     "text": [
      "\n",
      "🔍 Model Performance Comparison:\n",
      "Original Features Only → R²: 0.7553, RMSE: 4.9172\n",
      "With New Features      → R²: 0.8198, RMSE: 4.2195\n",
      "\n",
      "📈 Improvement from New Features:\n",
      "Δ R²   = +0.0645\n",
      "Δ RMSE = -0.6977\n"
     ]
    }
   ],
   "source": [
    "# Feature engineering (new features)\n",
    "data['interaction_rm_age'] = data['rm'] * data['age']\n",
    "data['interaction_tax_ptratio'] = data['tax'] * data['ptratio']\n",
    "data['polynomial_rm_squared'] = data['rm'] ** 2\n",
    "data['polynomial_age_squared'] = data['age'] ** 2\n",
    "data['estimated_house_built_year'] = 2023 - data['age']\n",
    "data['aggregated_total_rooms'] = data['rm'] * data['ptratio']\n",
    "data['binned_age_category'] = pd.cut(\n",
    "    data['age'], bins=[0, 20, 40, 60, 80, 100], labels=[1, 2, 3, 4, 5]\n",
    ").astype(float)\n",
    "\n",
    "# Define feature sets\n",
    "original_features = ['crim', 'zn', 'indus', 'nox', 'rm', 'age',\n",
    "                     'dis', 'rad', 'tax', 'ptratio', 'b', 'lstat']\n",
    "new_features = [\n",
    "    'interaction_rm_age', 'interaction_tax_ptratio',\n",
    "    'polynomial_rm_squared', 'polynomial_age_squared',\n",
    "    'estimated_house_built_year', 'aggregated_total_rooms',\n",
    "    'binned_age_category'\n",
    "]\n",
    "target = 'medv'\n",
    "\n",
    "# Function to evaluate model\n",
    "def evaluate_model(X, y):\n",
    "    X_train, X_test, y_train, y_test = train_test_split(X, y, test_size=0.2, random_state=1)\n",
    "    model = LinearRegression()\n",
    "    model.fit(X_train, y_train)\n",
    "    predictions = model.predict(X_test)\n",
    "    r2 = r2_score(y_test, predictions)\n",
    "    rmse = np.sqrt(mean_squared_error(y_test, predictions))\n",
    "    return r2, rmse\n",
    "\n",
    "# Run evaluations\n",
    "y = data[target]\n",
    "\n",
    "# Model with original features only\n",
    "X_orig = data[original_features]\n",
    "r2_orig, rmse_orig = evaluate_model(X_orig, y)\n",
    "\n",
    "# Model with original + new features\n",
    "X_new = data[original_features + new_features]\n",
    "r2_new, rmse_new = evaluate_model(X_new, y)\n",
    "\n",
    "# Compare results\n",
    "print(\"\\n🔍 Model Performance Comparison:\")\n",
    "print(f\"Original Features Only → R²: {r2_orig:.4f}, RMSE: {rmse_orig:.4f}\")\n",
    "print(f\"With New Features      → R²: {r2_new:.4f}, RMSE: {rmse_new:.4f}\")\n",
    "\n",
    "# Evaluate improvement\n",
    "delta_r2 = r2_new - r2_orig\n",
    "delta_rmse = rmse_orig - rmse_new\n",
    "print(f\"\\n📈 Improvement from New Features:\")\n",
    "print(f\"Δ R²   = +{delta_r2:.4f}\")\n",
    "print(f\"Δ RMSE = -{delta_rmse:.4f}\")"
   ]
  }
 ],
 "metadata": {
  "kernelspec": {
   "display_name": ".venv",
   "language": "python",
   "name": "python3"
  },
  "language_info": {
   "codemirror_mode": {
    "name": "ipython",
    "version": 3
   },
   "file_extension": ".py",
   "mimetype": "text/x-python",
   "name": "python",
   "nbconvert_exporter": "python",
   "pygments_lexer": "ipython3",
   "version": "3.13.2"
  }
 },
 "nbformat": 4,
 "nbformat_minor": 2
}
